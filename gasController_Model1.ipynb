{
 "cells": [
  {
   "cell_type": "markdown",
   "id": "3c997d60",
   "metadata": {},
   "source": [
    "# Simple Reactive Agent"
   ]
  },
  {
   "cell_type": "code",
   "execution_count": null,
   "id": "0af98cb0",
   "metadata": {},
   "outputs": [],
   "source": [
    "import time\n",
    "from random import randint"
   ]
  },
  {
   "cell_type": "code",
   "execution_count": null,
   "id": "8ceda11b",
   "metadata": {},
   "outputs": [],
   "source": [
    "## State\n",
    "\n",
    "agent = \"Checking\"\n",
    "noGasLeak = 0\n",
    "lowGasLeak = 1\n",
    "largeGasLeak = 2"
   ]
  },
  {
   "cell_type": "code",
   "execution_count": null,
   "id": "c5092e9c",
   "metadata": {},
   "outputs": [],
   "source": [
    "environment = [\n",
    "                [1, 2, 0, 0, 2],\n",
    "                [0, 0, 2, 1, 0],\n",
    "                [0, 1, 0, 0, 2],\n",
    "                [0, 0, 2, 1, 0],\n",
    "                [2, 0, 1, 0, 1],\n",
    "                [0, 2, 1, 0, 0],\n",
    "                [0, 1, 1, 0, 2]\n",
    "                                ]"
   ]
  },
  {
   "cell_type": "code",
   "execution_count": null,
   "id": "48dd8fab",
   "metadata": {},
   "outputs": [],
   "source": [
    "def printOut (environment):\n",
    "    for section in environment:  \n",
    "        print (section)\n",
    "    print (31 * \"\\n\")"
   ]
  },
  {
   "cell_type": "code",
   "execution_count": null,
   "id": "185eb612",
   "metadata": {},
   "outputs": [],
   "source": [
    "def stateEnvironment (environment):\n",
    "    for section in environment:\n",
    "        actual = 0\n",
    "        for place in section:\n",
    "            section [actual] = randint (0, 2)\n",
    "            actual += 1\n",
    "    return environment"
   ]
  },
  {
   "cell_type": "code",
   "execution_count": null,
   "id": "59f416e0",
   "metadata": {},
   "outputs": [],
   "source": [
    "printOut (environment)\n",
    "time.sleep(0.5)"
   ]
  },
  {
   "cell_type": "code",
   "execution_count": null,
   "id": "eeceb390",
   "metadata": {},
   "outputs": [],
   "source": [
    "def gasController(environment):\n",
    "    for area in environment:\n",
    "        actual = 0\n",
    "        for place in area:\n",
    "            if place != noGasLeak:\n",
    "                area[actual] = \"Fixed\"\n",
    "\n",
    "                printOut (environment)\n",
    "                time.sleep(0.5)\n",
    "\n",
    "                area[actual] = noGasLeak\n",
    "                actual += 1\n",
    "\n",
    "            else:\n",
    "                save = area[actual]\n",
    "                area[actual] = agent\n",
    "                printOut(environment)\n",
    "                area[actual] = save\n",
    "                time.sleep(0.5)\n",
    "\n",
    "                actual += 1\n",
    "                continue\n",
    "\n",
    "    return environment"
   ]
  },
  {
   "cell_type": "code",
   "execution_count": null,
   "id": "2ac70c48",
   "metadata": {},
   "outputs": [],
   "source": [
    "while True:\n",
    "    printOut (securityRobot (environment))\n",
    "    environment = stateEnvironment (environment)\n",
    "    printOut (environment)\n",
    "    time.sleep (1)"
   ]
  },
  {
   "cell_type": "code",
   "execution_count": null,
   "id": "f299ece3",
   "metadata": {},
   "outputs": [],
   "source": []
  }
 ],
 "metadata": {
  "kernelspec": {
   "display_name": "Python 3 (ipykernel)",
   "language": "python",
   "name": "python3"
  },
  "language_info": {
   "codemirror_mode": {
    "name": "ipython",
    "version": 3
   },
   "file_extension": ".py",
   "mimetype": "text/x-python",
   "name": "python",
   "nbconvert_exporter": "python",
   "pygments_lexer": "ipython3",
   "version": "3.9.6"
  }
 },
 "nbformat": 4,
 "nbformat_minor": 5
}
