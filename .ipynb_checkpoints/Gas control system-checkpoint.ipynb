{
 "cells": [
  {
   "cell_type": "markdown",
   "id": "d73cb8e9",
   "metadata": {},
   "source": [
    "# Simple Reactive Agent_1\n",
    "## Gas control system"
   ]
  },
  {
   "cell_type": "code",
   "execution_count": 1,
   "id": "e5713c51",
   "metadata": {},
   "outputs": [],
   "source": [
    "import random"
   ]
  },
  {
   "cell_type": "code",
   "execution_count": 2,
   "id": "5e8c02dc",
   "metadata": {},
   "outputs": [],
   "source": [
    "class Ambiente(object):\n",
    "    def __init__(self):\n",
    "        self.locationCondition = {'A': '0', 'B': '0'}\n",
    "        self.locationCondition['A'] = random.randint(0, 1)\n",
    "        self.locationCondition['B'] = random.randint(0, 1)"
   ]
  },
  {
   "cell_type": "code",
   "execution_count": 3,
   "id": "d489829d",
   "metadata": {},
   "outputs": [],
   "source": [
    "class AgenteTrabalho(Ambiente):\n",
    "    def __init__(self, Ambiente):\n",
    "        print(Ambiente.locationCondition)\n",
    "        # IsDirty = Ambiente.locationCondition[position] == 1\n",
    "        # IsClean = Ambiente.locationCondition[position] == 0\n",
    "        Score = 0\n",
    "        localizacaoAgente = random.randint(0, 1)\n",
    "        # print(localizacaoAgente)\n",
    "        # if (localizacaoAgente == 0):\n",
    "        #   print('Agente limpador foi colocado na posição A')\n",
    "        #   if (IsDirty):\n",
    "        #     print(' Posição A está sujo')\n",
    "        # elif (localizacaoAgente == 0):\n",
    "        #   print('Agente limpador foi colocado na posição B')\n",
    "        if localizacaoAgente == 0:\n",
    "            print (\"Agente foi colocado aleatoriamente na localização A.\")\n",
    "   \n",
    "            if Ambiente.locationCondition['A'] == 1:\n",
    "                print (\"Local A esta sujo.\")\n",
    "      \n",
    "                Ambiente.locationCondition['A'] = 0;\n",
    "                Score += 1\n",
    "                print (\"Local A foi limpo.\")\n",
    "             \n",
    "                print (\"Movimentando para o local B...\")\n",
    "                Score -= 1\n",
    "                \n",
    "                if Ambiente.locationCondition['B'] == 1:\n",
    "                    print (\"Local B esta sujo.\")\n",
    "                   \n",
    "                    Ambiente.locationCondition['B'] = 0;\n",
    "                    Score += 1\n",
    "                    print (\"Local B foi limpo.\")\n",
    "            else:\n",
    "                Score -= 1\n",
    "                print (\"Movimentando para o local B...\")\n",
    "                \n",
    "                if Ambiente.locationCondition['B'] == 1:\n",
    "                    print( \"Local B esta sujo.\")\n",
    "                  \n",
    "                    Ambiente.locationCondition['B'] = 0;\n",
    "                    Score += 1\n",
    "                    print (\"Local B foi limpo.\")\n",
    "\n",
    "        elif localizacaoAgente == 1:\n",
    "            print (\"Agente foi colocado aleatoriamente na localização B.\")\n",
    "          \n",
    "            if Ambiente.locationCondition['B'] == 1:\n",
    "                print (\"Local B esta sujo.\")\n",
    "              \n",
    "                Ambiente.locationCondition['B'] = 0;\n",
    "                Score += 1\n",
    "                print (\"Local B foi limpo.\")\n",
    "              \n",
    "                Score -= 1\n",
    "                print (\"Movimentando para o local A...\")\n",
    "               \n",
    "                if Ambiente.locationCondition['A'] == 1:\n",
    "                    print (\"Local A esta sujo.\")\n",
    "               \n",
    "                    Ambiente.locationCondition['A'] = 0;\n",
    "                    Score += 1\n",
    "                    print (\"Local A foi limpo.\")\n",
    "            else:\n",
    "                print (\"Movimentando para o local A...\")\n",
    "                Score -= 1\n",
    "               \n",
    "                if Ambiente.locationCondition['A'] == 1:\n",
    "                    print (\"Local A esta sujo.\")\n",
    "                    \n",
    "                    Ambiente.locationCondition['A'] = 0;\n",
    "                    Score += 1\n",
    "                    print (\"Local A foi limpo.\")\n",
    "\n",
    "        print (Ambiente.locationCondition)\n",
    "        print (\"Desempenho: \" + str(Score))"
   ]
  },
  {
   "cell_type": "code",
   "execution_count": 7,
   "id": "633f87b5",
   "metadata": {},
   "outputs": [
    {
     "name": "stdout",
     "output_type": "stream",
     "text": [
      "{'A': 0, 'B': 0}\n",
      "Agente foi colocado aleatoriamente na localização A.\n",
      "Movimentando para o local B...\n",
      "{'A': 0, 'B': 0}\n",
      "Desempenho: -1\n"
     ]
    }
   ],
   "source": [
    "ambienteMontado = Ambiente()\n",
    "oAgente = AgenteTrabalho(ambienteMontado)"
   ]
  }
 ],
 "metadata": {
  "kernelspec": {
   "display_name": "Python 3 (ipykernel)",
   "language": "python",
   "name": "python3"
  },
  "language_info": {
   "codemirror_mode": {
    "name": "ipython",
    "version": 3
   },
   "file_extension": ".py",
   "mimetype": "text/x-python",
   "name": "python",
   "nbconvert_exporter": "python",
   "pygments_lexer": "ipython3",
   "version": "3.9.6"
  }
 },
 "nbformat": 4,
 "nbformat_minor": 5
}
