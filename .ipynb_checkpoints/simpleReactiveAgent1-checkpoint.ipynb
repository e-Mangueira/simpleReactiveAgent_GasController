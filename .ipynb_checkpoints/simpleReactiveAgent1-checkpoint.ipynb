{
 "cells": [
  {
   "cell_type": "markdown",
   "id": "271a7309",
   "metadata": {},
   "source": [
    "# Simple Reactive Agent"
   ]
  },
  {
   "cell_type": "code",
   "execution_count": null,
   "id": "a40748ee",
   "metadata": {},
   "outputs": [],
   "source": [
    "import time\n",
    "from random import randint"
   ]
  },
  {
   "cell_type": "code",
   "execution_count": null,
   "id": "162dc40c",
   "metadata": {},
   "outputs": [],
   "source": [
    "agent = \"🔎\"\n",
    "safe = 0\n",
    "\n",
    "# options: enviromentFixed and safeEnvironment"
   ]
  },
  {
   "cell_type": "code",
   "execution_count": null,
   "id": "d6a54299",
   "metadata": {},
   "outputs": [],
   "source": [
    "environment = [\n",
    "    [1, 4, 0, 0, 2, 0, 3],\n",
    "    [0, 0, 3, 1, 0, 4, 0],\n",
    "    [0, 1, 0, 0, 2, 0, 0],\n",
    "    [0, 0, 2, 1, 0, 1, 2],\n",
    "    [2, 0, 3, 0, 3, 1, 4],\n",
    "    [0, 4, 0, 0, 3, 1, 4],\n",
    "    [0, 1, 1, 0, 2, 3, 0]\n",
    "]"
   ]
  },
  {
   "cell_type": "code",
   "execution_count": null,
   "id": "5e65a669",
   "metadata": {},
   "outputs": [],
   "source": [
    "def printOut (environment):\n",
    "    for section in environment:  \n",
    "        print (section)\n",
    "    print (2*\"\\n\")"
   ]
  },
  {
   "cell_type": "code",
   "execution_count": null,
   "id": "054d4dbb",
   "metadata": {},
   "outputs": [],
   "source": [
    "def stateEnvironment (environment):\n",
    "    for section in environment:\n",
    "        actual = 0\n",
    "        for place in section:\n",
    "            section [actual] = randint (0, 4)\n",
    "            actual += 1\n",
    "    return environment"
   ]
  },
  {
   "cell_type": "code",
   "execution_count": null,
   "id": "ca903b7b",
   "metadata": {},
   "outputs": [],
   "source": [
    "printOut (environment)"
   ]
  },
  {
   "cell_type": "code",
   "execution_count": null,
   "id": "ec813024",
   "metadata": {},
   "outputs": [],
   "source": [
    "# Action\n",
    "time.sleep(0.5)"
   ]
  },
  {
   "cell_type": "code",
   "execution_count": null,
   "id": "7095579f",
   "metadata": {},
   "outputs": [],
   "source": [
    "def securityRobot (environment):\n",
    "    for section in environment:\n",
    "        actual = 0\n",
    "        for place in section:\n",
    "            if place != safe:\n",
    "                section [actual] = agent\n",
    "                \n",
    "                printOut (environment)\n",
    "                time.sleep (0.5)\n",
    "                \n",
    "                section [actual] = safe\n",
    "                actual += 1\n",
    "            \n",
    "            else:\n",
    "                save = section [actual]\n",
    "                section [actual] = agent\n",
    "                printOut (environment)\n",
    "                section [actual] = save\n",
    "                time.sleep (0.5)\n",
    "                \n",
    "                actual += 1\n",
    "                continue\n",
    "        return environment"
   ]
  },
  {
   "cell_type": "code",
   "execution_count": null,
   "id": "d094dbe4",
   "metadata": {},
   "outputs": [],
   "source": [
    "while True:\n",
    "    printOut (securityRobot (environment))\n",
    "    environment = stateEnvironment (environment)\n",
    "    printOut (environment)\n",
    "    time.sleep (1)"
   ]
  },
  {
   "cell_type": "code",
   "execution_count": null,
   "id": "3fe63d3f",
   "metadata": {},
   "outputs": [],
   "source": []
  },
  {
   "cell_type": "code",
   "execution_count": null,
   "id": "f64a48a3",
   "metadata": {},
   "outputs": [],
   "source": []
  }
 ],
 "metadata": {
  "kernelspec": {
   "display_name": "Python 3 (ipykernel)",
   "language": "python",
   "name": "python3"
  },
  "language_info": {
   "codemirror_mode": {
    "name": "ipython",
    "version": 3
   },
   "file_extension": ".py",
   "mimetype": "text/x-python",
   "name": "python",
   "nbconvert_exporter": "python",
   "pygments_lexer": "ipython3",
   "version": "3.9.6"
  }
 },
 "nbformat": 4,
 "nbformat_minor": 5
}
